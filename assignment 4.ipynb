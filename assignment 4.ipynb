{
 "cells": [
  {
   "cell_type": "markdown",
   "id": "41d3127e",
   "metadata": {},
   "source": [
    "# Write a Python program to create a lambda function that adds 25 to a given number passed in as an argument.\n",
    "\n"
   ]
  },
  {
   "cell_type": "code",
   "execution_count": 6,
   "id": "fa45a778",
   "metadata": {},
   "outputs": [
    {
     "name": "stdout",
     "output_type": "stream",
     "text": [
      "35\n"
     ]
    }
   ],
   "source": [
    "r= lambda a: a + 25\n",
    "print(r(10))\n",
    "r = lambda x,y:x*y\n"
   ]
  },
  {
   "cell_type": "markdown",
   "id": "c43d9821",
   "metadata": {},
   "source": [
    "# Write a Python program to triple all numbers of a given list of integers. Use Python map.\n",
    "\n"
   ]
  },
  {
   "cell_type": "code",
   "execution_count": 7,
   "id": "aa2bc270",
   "metadata": {},
   "outputs": [
    {
     "name": "stdout",
     "output_type": "stream",
     "text": [
      "[3, 6, 9, 12, 15, 18, 21]\n"
     ]
    }
   ],
   "source": [
    "D= [1,2,3,4,5,6,7]\n",
    "result = list(map(lambda x:x*3,D))\n",
    "print(result)"
   ]
  },
  {
   "cell_type": "markdown",
   "id": "fb9f25fb",
   "metadata": {},
   "source": [
    "# Write a Python program to square the elements of a list using map() function"
   ]
  },
  {
   "cell_type": "code",
   "execution_count": 9,
   "id": "ea236ce8",
   "metadata": {},
   "outputs": [
    {
     "name": "stdout",
     "output_type": "stream",
     "text": [
      "[16, 25, 4, 81]\n"
     ]
    }
   ],
   "source": [
    "D= [4,5,2,9]\n",
    "result = list(map(lambda x:x**2,D))\n",
    "print(result)"
   ]
  },
  {
   "cell_type": "code",
   "execution_count": null,
   "id": "0a2f7189",
   "metadata": {},
   "outputs": [],
   "source": []
  }
 ],
 "metadata": {
  "kernelspec": {
   "display_name": "Python 3 (ipykernel)",
   "language": "python",
   "name": "python3"
  },
  "language_info": {
   "codemirror_mode": {
    "name": "ipython",
    "version": 3
   },
   "file_extension": ".py",
   "mimetype": "text/x-python",
   "name": "python",
   "nbconvert_exporter": "python",
   "pygments_lexer": "ipython3",
   "version": "3.9.13"
  }
 },
 "nbformat": 4,
 "nbformat_minor": 5
}
