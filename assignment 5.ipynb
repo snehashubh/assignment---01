{
 "cells": [
  {
   "cell_type": "markdown",
   "id": "b4a92d8f",
   "metadata": {},
   "source": [
    "# Challenge 2: Implement a Calculator Class"
   ]
  },
  {
   "cell_type": "code",
   "execution_count": 1,
   "id": "31cf032d",
   "metadata": {},
   "outputs": [
    {
     "name": "stdout",
     "output_type": "stream",
     "text": [
      "104\n",
      "84\n",
      "940\n",
      "9\n"
     ]
    }
   ],
   "source": [
    "class calculator:\n",
    "    def __init__(self,addition):\n",
    "        self.addition=addition\n",
    "    def __add__(self,x):\n",
    "        return self.addition+x.addition\n",
    "N1=calculator(94)\n",
    "N2=calculator(10)\n",
    "\n",
    "print(N1+N2)\n",
    "class calculator:\n",
    "    def __init__(self,subtraction):\n",
    "        self.subtraction=subtraction\n",
    "    def __sub__(self,x):\n",
    "        return self.subtraction-x.subtraction\n",
    "N1=calculator(94)\n",
    "N2=calculator(10)\n",
    "\n",
    "print(N1-N2)\n",
    "class calculator:\n",
    "    def __init__(self,multiplication):\n",
    "        self.multiplication=multiplication\n",
    "    def __mul__(self,x):\n",
    "        return self.multiplication*x.multiplication\n",
    "N1=calculator(94)\n",
    "N2=calculator(10)\n",
    "\n",
    "print(N1*N2)\n",
    "class calculator:\n",
    "    def __init__(self,divide):\n",
    "        self.divide=divide\n",
    "    def __floordiv__(self,x):\n",
    "        return self.divide//x.divide\n",
    "N1=calculator(94)\n",
    "N2=calculator(10)\n",
    "\n",
    "print(N1//N2)\n",
    "\n",
    "\n"
   ]
  },
  {
   "cell_type": "markdown",
   "id": "775d7542",
   "metadata": {},
   "source": [
    "# Challenge 3: Implement the Complete Student Class"
   ]
  },
  {
   "cell_type": "code",
   "execution_count": null,
   "id": "5cfa9e27",
   "metadata": {},
   "outputs": [],
   "source": [
    "class Student:\n",
    "    school_name=\"adinath_english\"\n",
    "    def __init__(self,name,rollnumber):\n",
    "        self.__name=name\n",
    "        self.__rollnumber=rollnumber\n",
    " \n",
    "\n",
    "    def get_name(self):\n",
    "        print(\"getter method called\")\n",
    "        return self.__name\n",
    "    \n",
    "    def get_rollnumber(self):\n",
    "        print(\"getter method called\")\n",
    "        return self.__rollnumber\n",
    "   \n",
    "    def set_name(self,x):\n",
    "        print(\"setter method called\")\n",
    "        self.__name=x\n",
    "        \n",
    "    def set_rollnumber(self,x):\n",
    "        print(\"setter method called\")\n",
    "        self.__rollnumber=x\n",
    "\n",
    "        \n",
    "x = student()\n",
    "x.set_name()\n",
    "x.set_rollnumber()\n",
    "print(x.get_name())\n",
    "print(x.get_rollnumber())\n",
    "        "
   ]
  },
  {
   "cell_type": "markdown",
   "id": "feeda1eb",
   "metadata": {},
   "source": [
    "# Challenge 4: Implement a Banking Account"
   ]
  },
  {
   "cell_type": "code",
   "execution_count": 2,
   "id": "99d78a89",
   "metadata": {},
   "outputs": [
    {
     "name": "stdout",
     "output_type": "stream",
     "text": [
      "ashish\n",
      "5000\n",
      "5percent\n",
      "--------------------------------------------------------------------\n",
      "ashish\n",
      "5000\n"
     ]
    }
   ],
   "source": [
    "class account:\n",
    "    def title(self):\n",
    "        print(\"ashish\")\n",
    "    def balance(self):\n",
    "        print(\"5000\")\n",
    "\n",
    "class savingaccount(account):\n",
    "    def intrestrate(self):\n",
    "        print(\"5percent\")\n",
    "x=savingaccount()\n",
    "x.title()\n",
    "x.balance()\n",
    "x.intrestrate()\n",
    "print(\"--------------------------------------------------------------------\")\n",
    "y=account()\n",
    "y.title()\n",
    "y.balance()\n"
   ]
  },
  {
   "cell_type": "markdown",
   "id": "59094c73",
   "metadata": {},
   "source": [
    "# Challenge 5: Handling a Bank Account"
   ]
  },
  {
   "cell_type": "markdown",
   "id": "e02191ae",
   "metadata": {},
   "source": [
    "# Task 2:- In the Account class, implement the deposit(amount) method that adds amount to the balance."
   ]
  },
  {
   "cell_type": "code",
   "execution_count": 4,
   "id": "a0381277",
   "metadata": {},
   "outputs": [
    {
     "name": "stdout",
     "output_type": "stream",
     "text": [
      "Balance After Deposit  2500\n",
      "Balance Available : 2500\n"
     ]
    }
   ],
   "source": [
    "class Account:\n",
    "    \n",
    "    def __init__(self, title=None, balance=2000):\n",
    "        self.title = title\n",
    "        self.balance = balance\n",
    "    \n",
    "    def withdrawal(self, amount):\n",
    "        self.balance=self.balance-amount\n",
    "        print(\"Balance After withdrawal \",self.balance)\n",
    "        \n",
    "\n",
    "    def deposit(self, amount):\n",
    "        self.balance=self.balance+amount\n",
    "        print(\"Balance After Deposit \",self.balance)\n",
    "        \n",
    "    def getBalance(self):\n",
    "        print(\"Balance Available :\",self.balance)\n",
    "\n",
    "class SavingsAccount(Account):\n",
    "    def __init__(self, title=None, balance=2000, interestRate=5):\n",
    "            super().__init__(title, balance)\n",
    "            self.interestRate = interestRate\n",
    "    \n",
    "    def interestAmount(self):\n",
    "        self.balance=(self.balance*self.interestRate/100)\n",
    "        print(\"Required interest:\",self.balance)\n",
    "        \n",
    "x=SavingsAccount()\n",
    "x.deposit(500)\n",
    "x.getBalance()"
   ]
  },
  {
   "cell_type": "markdown",
   "id": "d0a5a8d0",
   "metadata": {},
   "source": [
    "# Task 3:-In the Account class, implement the withdrawal(amount) method that subtracts the amount from the balance."
   ]
  },
  {
   "cell_type": "code",
   "execution_count": 7,
   "id": "3bbb9b96",
   "metadata": {},
   "outputs": [
    {
     "name": "stdout",
     "output_type": "stream",
     "text": [
      "Balance After withdrawal  1500\n",
      "Balance Available : 1500\n"
     ]
    }
   ],
   "source": [
    "class Account:\n",
    "    \n",
    "    def __init__(self, title=None, balance=2000):\n",
    "        self.title = title\n",
    "        self.balance = balance\n",
    "    \n",
    "    def withdrawal(self, amount):\n",
    "        self.balance=self.balance-amount\n",
    "        print(\"Balance After withdrawal \",self.balance)\n",
    "        \n",
    "\n",
    "    def deposit(self, amount):\n",
    "        self.balance=self.balance+amount\n",
    "        print(\"Balance After Deposit \",self.balance)\n",
    "        \n",
    "    def getBalance(self):\n",
    "        print(\"Balance Available :\",self.balance)\n",
    "\n",
    "class SavingsAccount(Account):\n",
    "    def __init__(self, title=None, balance=2000, interestRate=5):\n",
    "            super().__init__(title, balance)\n",
    "            self.interestRate = interestRate\n",
    "    \n",
    "    def interestAmount(self):\n",
    "        self.balance=(self.balance*self.interestRate/100)\n",
    "        print(\"Required interest:\",self.balance)\n",
    "        \n",
    "x=SavingsAccount()\n",
    "x.withdrawal(500)\n",
    "x.getBalance()"
   ]
  },
  {
   "cell_type": "markdown",
   "id": "a2a89fe9",
   "metadata": {},
   "source": [
    "# Task 4:-In the SavingsAccount class, implement an interestAmount() method that returns the interest amount of the current balance."
   ]
  },
  {
   "cell_type": "code",
   "execution_count": 8,
   "id": "0bb6dafd",
   "metadata": {},
   "outputs": [
    {
     "name": "stdout",
     "output_type": "stream",
     "text": [
      "Balance Available : 2000\n",
      "Required interest: 100.0\n"
     ]
    }
   ],
   "source": [
    "class Account:\n",
    "    \n",
    "    def __init__(self, title=None, balance=2000):\n",
    "        self.title = title\n",
    "        self.balance = balance\n",
    "    \n",
    "    def withdrawal(self, amount):\n",
    "        self.balance=self.balance-amount\n",
    "        print(\"Balance After withdrawal \",self.balance)\n",
    "        \n",
    "\n",
    "    def deposit(self, amount):\n",
    "        self.balance=self.balance+amount\n",
    "        print(\"Balance After Deposit \",self.balance)\n",
    "        \n",
    "    def getBalance(self):\n",
    "        print(\"Balance Available :\",self.balance)\n",
    "\n",
    "class SavingsAccount(Account):\n",
    "    def __init__(self, title=None, balance=2000, interestRate=5):\n",
    "            super().__init__(title, balance)\n",
    "            self.interestRate = interestRate\n",
    "    \n",
    "    def interestAmount(self):\n",
    "        self.balance=(self.balance*self.interestRate/100)\n",
    "        print(\"Required interest:\",self.balance)\n",
    "        \n",
    "x=SavingsAccount()\n",
    "x.getBalance()\n",
    "x.interestAmount()"
   ]
  },
  {
   "cell_type": "markdown",
   "id": "e60872b1",
   "metadata": {},
   "source": [
    "# Challenge 1: Square Numbers and Return Their Sum."
   ]
  },
  {
   "cell_type": "code",
   "execution_count": 9,
   "id": "b35bc168",
   "metadata": {},
   "outputs": [
    {
     "name": "stdout",
     "output_type": "stream",
     "text": [
      "square Number is: 35\n"
     ]
    }
   ],
   "source": [
    "class Point:\n",
    "\n",
    "    def __init__(self,x,y,z):\n",
    "        self.x = x\n",
    "        self.y = y\n",
    "        self.z = z\n",
    "        \n",
    "    def sqSum(self):\n",
    "        return self.x**2+self.y**2+self.z**2\n",
    "    \n",
    "    \n",
    "p= Point(1,3,5)\n",
    "result=p.sqSum()\n",
    "print(\"square Number is:\",result)\n",
    "\n",
    "    "
   ]
  },
  {
   "cell_type": "code",
   "execution_count": null,
   "id": "c02eca45",
   "metadata": {},
   "outputs": [],
   "source": []
  }
 ],
 "metadata": {
  "kernelspec": {
   "display_name": "Python 3 (ipykernel)",
   "language": "python",
   "name": "python3"
  },
  "language_info": {
   "codemirror_mode": {
    "name": "ipython",
    "version": 3
   },
   "file_extension": ".py",
   "mimetype": "text/x-python",
   "name": "python",
   "nbconvert_exporter": "python",
   "pygments_lexer": "ipython3",
   "version": "3.9.13"
  }
 },
 "nbformat": 4,
 "nbformat_minor": 5
}
