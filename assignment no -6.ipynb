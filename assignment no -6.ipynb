{
 "cells": [
  {
   "cell_type": "markdown",
   "id": "245b8e0c",
   "metadata": {},
   "source": [
    "# Assignment =6.1.1"
   ]
  },
  {
   "cell_type": "markdown",
   "id": "e4212750",
   "metadata": {},
   "source": [
    "# Create a JSON file (employee.json) containing employee information of minimum 5 employees. Each employee information consists of Name, DOB, Height, City, State. Write a python program that reads this information from the JSON file and saves the information into a list of objects of Employee class. Finally print the list of the Employee objects."
   ]
  },
  {
   "cell_type": "code",
   "execution_count": 15,
   "id": "a526b2ae",
   "metadata": {},
   "outputs": [
    {
     "name": "stdout",
     "output_type": "stream",
     "text": [
      "json file is generated\n"
     ]
    }
   ],
   "source": [
    "import json\n",
    "employee={1:{\"name\":\"shubhangi\",\"DOB\":\"25/8/96\",\"height\":\"5feet1inch\",\"city\":\"mumbai\",\"state\":\"maharshtra\"},2:{\"name\":\"priya\",\"DOB\":\"11/10/95\",\"height\":\"4feet2inch\",\"city\":\"panji\",\"state\":\"goa\"},3:{\"name\":\"soham\",\"DOB\":\"7/9/96\",\"height\":\"5feet3inch\",\"city\":\"new delhi\",\"state\":\"delhi\"},4:{\"name\":\"pravin\",\"DOB\":\"14/4/96\",\"height\":\"5feet4inch\",\"city\":\"nusari\",\"state\":\"gujarat\"},5:{\"name\":\"shubham\",\"DOB\":\"28/1/97\",\"height\":\"5feet9inch\",\"city\":\"nashik\",\"state\":\"maharashtra\"}}\n",
    "with open (\"snehalk2022.json\",\"w\") as f:\n",
    "    json.dump(employee,f,indent=7)\n",
    "    print(\"json file is generated\")"
   ]
  },
  {
   "cell_type": "markdown",
   "id": "d25c8fcc",
   "metadata": {},
   "source": [
    "# Assignment =6.1.2"
   ]
  },
  {
   "cell_type": "markdown",
   "id": "0cb8953f",
   "metadata": {},
   "source": [
    "# Create a dictionary of any 7 Indian states and their capitals. Write this into a JSON file"
   ]
  },
  {
   "cell_type": "code",
   "execution_count": 14,
   "id": "32d2832c",
   "metadata": {},
   "outputs": [
    {
     "name": "stdout",
     "output_type": "stream",
     "text": [
      "json file is generated\n"
     ]
    }
   ],
   "source": [
    "import json\n",
    "state_captial={\"maharashtra\":\"mumbai\",\"gujarat\":\"gandhinagar\",\"rajashthan\":\"jaipur\",\"bihar\":\"patna\",\"goa\":\"panaji\",\"delhi\":\"new delhi\",\"madhya pradesh\":\"bhopal\"}\n",
    "with open (\"snehal.json\",\"w\") as f:\n",
    "    json.dump(state_captial,f,indent=4)\n",
    "    print(\"json file is generated\")"
   ]
  },
  {
   "cell_type": "markdown",
   "id": "82047203",
   "metadata": {},
   "source": [
    "# Assignment=6.2"
   ]
  },
  {
   "cell_type": "markdown",
   "id": "eaf3c703",
   "metadata": {},
   "source": [
    "# 1. Create a class named ‘Dog’. It should have a constructor which accepts its name, age and coat color. You must perform the following operations:\n",
    "\n",
    "🔴 a. It should have a function ‘description()’ which prints the name and age of the dog.\n",
    "🔴 b. It should have a function ‘get_info()’ which prints the coat color of the dog.\n",
    "🔴 c. Create child classes ‘JackRussellTerrier’ and ‘Bulldog’ which is inherited from the class ‘Dog’. It should have at least two methods of its own.\n",
    "🔴 d. Create objects and implement the above functionalities."
   ]
  },
  {
   "cell_type": "code",
   "execution_count": 43,
   "id": "0ff9c3e5",
   "metadata": {},
   "outputs": [
    {
     "name": "stdout",
     "output_type": "stream",
     "text": [
      "dog name is sharu\n",
      "dog age is 1.5year\n",
      "dog coat color is white\n",
      "**************************************\n",
      "Dog name is : sharu\n",
      "Dog age is : 1.5\n",
      "Dog coat_color is : white\n",
      "dog height is 1feet\n",
      "dog is high jumper\n",
      "***************************************\n",
      "Dog name is : sharu\n",
      "Dog age is : 1.5\n",
      "Dog coat_color is : white\n",
      "dog is high skill\n",
      "dog is loyal\n"
     ]
    }
   ],
   "source": [
    "class dog:\n",
    "    def description(self):\n",
    "        print(\"dog name is sharu\")\n",
    "        print(\"dog age is 1.5year\")\n",
    "    def get_info (self):\n",
    "        print(\"dog coat color is white\")\n",
    "class JackRussellTerrier(Dog):\n",
    "    def height (self):\n",
    "        print(\"dog height is 1feet\")\n",
    "        print(\"dog is high jumper\")\n",
    "\n",
    "class Bulldog(Dog):\n",
    "    def high (self):\n",
    "        print(\"dog is high skill\")\n",
    "        print(\"dog is loyal\")\n",
    "        \n",
    "x=dog()\n",
    "x.description()\n",
    "\n",
    "x.get_info()\n",
    "print(\"**************************************\")\n",
    "y=JackRussellTerrier(\"sharu\",1.5,\"white\")\n",
    "y.height()\n",
    "print(\"***************************************\")\n",
    "\n",
    "z=Bulldog(\"sharu\",1.5,\"white\")\n",
    "z.high()"
   ]
  },
  {
   "cell_type": "code",
   "execution_count": null,
   "id": "5bb60e82",
   "metadata": {},
   "outputs": [],
   "source": []
  }
 ],
 "metadata": {
  "kernelspec": {
   "display_name": "Python 3 (ipykernel)",
   "language": "python",
   "name": "python3"
  },
  "language_info": {
   "codemirror_mode": {
    "name": "ipython",
    "version": 3
   },
   "file_extension": ".py",
   "mimetype": "text/x-python",
   "name": "python",
   "nbconvert_exporter": "python",
   "pygments_lexer": "ipython3",
   "version": "3.9.13"
  }
 },
 "nbformat": 4,
 "nbformat_minor": 5
}
