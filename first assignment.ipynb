{
 "cells": [
  {
   "cell_type": "markdown",
   "id": "819e4706",
   "metadata": {},
   "source": [
    "# Write a Python program to count the number of even and odd numbers from a series of numbers."
   ]
  },
  {
   "cell_type": "code",
   "execution_count": 1,
   "id": "74fb9a12",
   "metadata": {},
   "outputs": [
    {
     "name": "stdout",
     "output_type": "stream",
     "text": [
      "total odd number=  5\n",
      "total even number= 4\n"
     ]
    }
   ],
   "source": [
    "sample=(1,2,3,4,5,6,7,8,9)\n",
    "total_odd = 0\n",
    "total_even = 0\n",
    "for number in sample:\n",
    "    if(number%2==0):\n",
    "        total_even = total_even + 1\n",
    "    else:\n",
    "        total_odd = total_odd + 1\n",
    "print('total odd number= ', total_odd)\n",
    "print('total even number=', total_even)"
   ]
  },
  {
   "cell_type": "markdown",
   "id": "70d2abf1",
   "metadata": {},
   "source": [
    "# Write a Python program to get the Fibonacci series between 0 to50"
   ]
  },
  {
   "cell_type": "code",
   "execution_count": 17,
   "id": "d1ca8e6b",
   "metadata": {},
   "outputs": [
    {
     "name": "stdout",
     "output_type": "stream",
     "text": [
      "enter limit50\n",
      "0 1 1 2 3 5 8 13 21 34 "
     ]
    }
   ],
   "source": [
    "n=int(input(\"enter limit\"))\n",
    "a=0\n",
    "b=1\n",
    "\n",
    "c=0\n",
    "while (c<=n):\n",
    "    print(c,end=\" \")\n",
    "    a=b\n",
    "    b=c\n",
    "    c=a+b"
   ]
  },
  {
   "cell_type": "markdown",
   "id": "1a165f06",
   "metadata": {},
   "source": [
    "# Write a Python program that accepts a word from the user and reverse it."
   ]
  },
  {
   "cell_type": "code",
   "execution_count": 18,
   "id": "428a8524",
   "metadata": {},
   "outputs": [
    {
     "name": "stdout",
     "output_type": "stream",
     "text": [
      "enter a word to reverseEdyoda\n",
      "a d o y d E "
     ]
    }
   ],
   "source": [
    "word=input('enter a word to reverse')\n",
    "for char in range(len(word)-1,-1,-1):\n",
    "    print(word[char],end=\" \")"
   ]
  },
  {
   "cell_type": "code",
   "execution_count": null,
   "id": "3c2ee0ce",
   "metadata": {},
   "outputs": [],
   "source": []
  }
 ],
 "metadata": {
  "kernelspec": {
   "display_name": "Python 3 (ipykernel)",
   "language": "python",
   "name": "python3"
  },
  "language_info": {
   "codemirror_mode": {
    "name": "ipython",
    "version": 3
   },
   "file_extension": ".py",
   "mimetype": "text/x-python",
   "name": "python",
   "nbconvert_exporter": "python",
   "pygments_lexer": "ipython3",
   "version": "3.9.13"
  }
 },
 "nbformat": 4,
 "nbformat_minor": 5
}
